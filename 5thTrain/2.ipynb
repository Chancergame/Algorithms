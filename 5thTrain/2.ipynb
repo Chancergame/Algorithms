{
 "cells": [
  {
   "cell_type": "markdown",
   "metadata": {},
   "source": [
    "1"
   ]
  },
  {
   "cell_type": "code",
   "execution_count": 1,
   "metadata": {},
   "outputs": [
    {
     "name": "stdout",
     "output_type": "stream",
     "text": [
      "1 1 6 5\n"
     ]
    }
   ],
   "source": [
    "n = int(input())\n",
    "x, y = [], []\n",
    "for i in range(n):\n",
    "    a, b = map(int,input().split())\n",
    "    x.append(a)\n",
    "    y.append(b)\n",
    "if n == 1:\n",
    "    print(x[0], y[0], x[0], y[0])\n",
    "else:\n",
    "    xma, xmi = max(x[0], x[1]), min(x[0], x[1])\n",
    "    yma, ymi = max(y[0], y[1]), min(y[0], y[1])\n",
    "    for i in range(n):\n",
    "        if x[i] > xma: xma = x[i]\n",
    "        if x[i] < xmi: xmi = x[i]\n",
    "        if y[i] > yma: yma = y[i]\n",
    "        if y[i] < ymi: ymi = y[i]\n",
    "    print(xmi, ymi, xma, yma)"
   ]
  },
  {
   "cell_type": "markdown",
   "metadata": {},
   "source": [
    "2"
   ]
  },
  {
   "cell_type": "code",
   "execution_count": 12,
   "metadata": {},
   "outputs": [
    {
     "name": "stdout",
     "output_type": "stream",
     "text": [
      "2\n"
     ]
    }
   ],
   "source": [
    "n, k = map(int, input().split())\n",
    "l = list(map(int, input().split()))\n",
    "prof = 0\n",
    "for i in range(n):\n",
    "    for j in range(max(0, i-k), i):\n",
    "        if l[i] - l[j] > prof:\n",
    "            prof = l[i] - l[j]\n",
    "    for j in range(i+1,min(n, i+k)):\n",
    "        if l[j] - l[i] > prof:\n",
    "            prof = l[j] - l[i]\n",
    "print(prof)"
   ]
  },
  {
   "cell_type": "markdown",
   "metadata": {},
   "source": [
    "3"
   ]
  },
  {
   "cell_type": "code",
   "execution_count": 17,
   "metadata": {},
   "outputs": [
    {
     "name": "stdout",
     "output_type": "stream",
     "text": [
      "24\n"
     ]
    }
   ],
   "source": [
    "n = int(input())\n",
    "l = list(map(int, input().split()))\n",
    "m = l[0]\n",
    "s = 0\n",
    "for i in range(1, n):\n",
    "    if l[i] > m:\n",
    "        s += m\n",
    "        m = l[i]\n",
    "    else:\n",
    "        s += l[i]\n",
    "if m > s: print(m - s)\n",
    "else: print(m + s)"
   ]
  },
  {
   "cell_type": "markdown",
   "metadata": {},
   "source": [
    "4"
   ]
  },
  {
   "cell_type": "code",
   "execution_count": 26,
   "metadata": {},
   "outputs": [
    {
     "name": "stdout",
     "output_type": "stream",
     "text": [
      "8\n"
     ]
    }
   ],
   "source": [
    "n = int(input())\n",
    "x, y = [], []\n",
    "s = 0\n",
    "for i in range(n):\n",
    "    a, b = map(int,input().split())\n",
    "    t = 0\n",
    "    for j in range(i):\n",
    "        if (x[j] in [a-1,a+1] and y[j] == b) or (x[j] == a and y[j] in [b-1,b+1]): t+=1\n",
    "    if t == 1: s += 2\n",
    "    elif t == 3: s -= 2\n",
    "    elif t == 0: s += 4\n",
    "    x.append(a)\n",
    "    y.append(b)\n",
    "print(s)\n"
   ]
  },
  {
   "cell_type": "markdown",
   "metadata": {},
   "source": [
    "5"
   ]
  },
  {
   "cell_type": "code",
   "execution_count": 2,
   "metadata": {},
   "outputs": [
    {
     "name": "stdout",
     "output_type": "stream",
     "text": [
      "10\n",
      "2 3 1\n"
     ]
    }
   ],
   "source": [
    "n = int(input())\n",
    "plus = []\n",
    "other = []\n",
    "pairs = [(0,0)]\n",
    "max_down = 0\n",
    "max_plus_i = 0\n",
    "max_plus_other = 0\n",
    "max_plus_other_i = 0\n",
    "for i in range(n):\n",
    "    up, down = map(int, input().split())\n",
    "    pairs.append((up, down))\n",
    "    if up - down > 0: \n",
    "        plus.append(i+1)\n",
    "        if down > max_down:\n",
    "            max_down = down\n",
    "            max_plus_i = i+1\n",
    "    else: \n",
    "        other.append(i+1)\n",
    "        if up > max_plus_other:\n",
    "            max_plus_other = up\n",
    "            max_plus_other_i = i+1 \n",
    "s = 0 \n",
    "if max_plus_i > 0 and max_plus_other_i > 0:\n",
    "    if pairs[max_plus_i][0] > pairs[max_plus_i][0] - pairs[max_plus_i][1] + pairs[max_plus_other_i][0]:\n",
    "        s += pairs[max_plus_i][0]\n",
    "        plus.remove(max_plus_i)\n",
    "        for i in plus: s += pairs[i][0] - pairs[i][1]\n",
    "        print(s)\n",
    "        print(*plus, max_plus_i, *other)\n",
    "    else:\n",
    "        s += pairs[max_plus_other_i][0]\n",
    "        other.remove(max_plus_other_i)\n",
    "        for i in plus: s += pairs[i][0] - pairs[i][1]\n",
    "        print(s)\n",
    "        print(*plus, max_plus_other_i, *other)\n",
    "elif max_plus_i > 0:\n",
    "    s += pairs[max_plus_i][0]\n",
    "    plus.remove(max_plus_i)\n",
    "    for i in plus: s += pairs[i][0] - pairs[i][1]\n",
    "    print(s)\n",
    "    print(*plus, max_plus_i, *other)\n",
    "elif max_plus_other_i:\n",
    "    s += pairs[max_plus_other_i][0]\n",
    "    other.remove(max_plus_other_i)\n",
    "    for i in plus: s += pairs[i][0] - pairs[i][1]\n",
    "    print(s)\n",
    "    print(*plus, max_plus_other_i, *other)"
   ]
  },
  {
   "cell_type": "markdown",
   "metadata": {},
   "source": [
    "6"
   ]
  },
  {
   "cell_type": "code",
   "execution_count": null,
   "metadata": {},
   "outputs": [],
   "source": [
    "n = int(input())\n",
    "l = list(map(int, input().split()))\n",
    "a, b, k = map(int, input().split())\n",
    "if a % k == 0: lb = a // k - 1\n",
    "else: lb = a // k\n",
    "if b % k == 0: rb = b // k \n",
    "else: rb = b // k + 1\n",
    "max = 0\n",
    "if rb - lb >= n:\n",
    "    for i in range(n):\n",
    "        if l[i] > max: max = l[i]\n",
    "else:\n",
    "    for i in range(lb, rb):\n",
    "        if l[i % n] > max: max = l[i % n]\n",
    "        j = -i\n",
    "        while j <= -n: j += n\n",
    "        if l[j] > max: max = l[j]\n",
    "print(max)"
   ]
  },
  {
   "cell_type": "markdown",
   "metadata": {},
   "source": [
    "7"
   ]
  },
  {
   "cell_type": "code",
   "execution_count": 1,
   "metadata": {},
   "outputs": [
    {
     "ename": "",
     "evalue": "",
     "output_type": "error",
     "traceback": [
      "\u001b[1;31mThe Kernel crashed while executing code in the current cell or a previous cell. \n",
      "\u001b[1;31mPlease review the code in the cell(s) to identify a possible cause of the failure. \n",
      "\u001b[1;31mClick <a href='https://aka.ms/vscodeJupyterKernelCrash'>here</a> for more info. \n",
      "\u001b[1;31mView Jupyter <a href='command:jupyter.viewOutput'>log</a> for further details."
     ]
    }
   ],
   "source": [
    "n = int(input())\n",
    "for i in range(n):\n",
    "    k = int(input())\n",
    "    l = list(map(int,input().split()))\n",
    "    sli = []\n",
    "    mi = 10**5\n",
    "    count = 0\n",
    "    for num in l:\n",
    "        if num > count and count < mi:\n",
    "            count += 1\n",
    "            if num < mi: mi = num\n",
    "        else:\n",
    "            sli.append(count)\n",
    "            count = 1\n",
    "            mi = num\n",
    "    sli.append(count)\n",
    "    print(len(sli))\n",
    "    print(*sli)"
   ]
  },
  {
   "cell_type": "markdown",
   "metadata": {},
   "source": [
    "8"
   ]
  },
  {
   "cell_type": "code",
   "execution_count": 1,
   "metadata": {},
   "outputs": [
    {
     "ename": "KeyboardInterrupt",
     "evalue": "Interrupted by user",
     "output_type": "error",
     "traceback": [
      "\u001b[1;31m---------------------------------------------------------------------------\u001b[0m",
      "\u001b[1;31mKeyboardInterrupt\u001b[0m                         Traceback (most recent call last)",
      "\u001b[1;32m~\\AppData\\Local\\Temp\\ipykernel_13768\\4024749902.py\u001b[0m in \u001b[0;36m<module>\u001b[1;34m\u001b[0m\n\u001b[1;32m----> 1\u001b[1;33m \u001b[0mn\u001b[0m\u001b[1;33m,\u001b[0m \u001b[0mm\u001b[0m \u001b[1;33m=\u001b[0m \u001b[0mmap\u001b[0m\u001b[1;33m(\u001b[0m\u001b[0mint\u001b[0m\u001b[1;33m,\u001b[0m \u001b[0minput\u001b[0m\u001b[1;33m(\u001b[0m\u001b[1;33m)\u001b[0m\u001b[1;33m.\u001b[0m\u001b[0msplit\u001b[0m\u001b[1;33m(\u001b[0m\u001b[1;33m)\u001b[0m\u001b[1;33m)\u001b[0m\u001b[1;33m\u001b[0m\u001b[1;33m\u001b[0m\u001b[0m\n\u001b[0m\u001b[0;32m      2\u001b[0m \u001b[0mtable\u001b[0m \u001b[1;33m=\u001b[0m \u001b[1;33m[\u001b[0m\u001b[0mlist\u001b[0m\u001b[1;33m(\u001b[0m\u001b[0mmap\u001b[0m\u001b[1;33m(\u001b[0m\u001b[0mint\u001b[0m\u001b[1;33m,\u001b[0m \u001b[0minput\u001b[0m\u001b[1;33m(\u001b[0m\u001b[1;33m)\u001b[0m\u001b[1;33m.\u001b[0m\u001b[0msplit\u001b[0m\u001b[1;33m(\u001b[0m\u001b[1;33m)\u001b[0m\u001b[1;33m)\u001b[0m\u001b[1;33m)\u001b[0m \u001b[1;32mfor\u001b[0m \u001b[0mi\u001b[0m \u001b[1;32min\u001b[0m \u001b[0mrange\u001b[0m\u001b[1;33m(\u001b[0m\u001b[0mn\u001b[0m\u001b[1;33m)\u001b[0m\u001b[1;33m]\u001b[0m\u001b[1;33m\u001b[0m\u001b[1;33m\u001b[0m\u001b[0m\n\u001b[0;32m      3\u001b[0m \u001b[0mbest\u001b[0m \u001b[1;33m=\u001b[0m \u001b[1;36m0\u001b[0m\u001b[1;33m\u001b[0m\u001b[1;33m\u001b[0m\u001b[0m\n\u001b[0;32m      4\u001b[0m \u001b[1;32mfor\u001b[0m \u001b[0mi\u001b[0m \u001b[1;32min\u001b[0m \u001b[0mrange\u001b[0m\u001b[1;33m(\u001b[0m\u001b[0mn\u001b[0m\u001b[1;33m)\u001b[0m\u001b[1;33m:\u001b[0m\u001b[1;33m\u001b[0m\u001b[1;33m\u001b[0m\u001b[0m\n\u001b[0;32m      5\u001b[0m     \u001b[1;32mfor\u001b[0m \u001b[0mj\u001b[0m \u001b[1;32min\u001b[0m \u001b[0mrange\u001b[0m\u001b[1;33m(\u001b[0m\u001b[0mm\u001b[0m\u001b[1;33m)\u001b[0m\u001b[1;33m:\u001b[0m\u001b[1;33m\u001b[0m\u001b[1;33m\u001b[0m\u001b[0m\n",
      "\u001b[1;32m~\\AppData\\Roaming\\Python\\Python39\\site-packages\\ipykernel\\kernelbase.py\u001b[0m in \u001b[0;36mraw_input\u001b[1;34m(self, prompt)\u001b[0m\n\u001b[0;32m   1189\u001b[0m             \u001b[0mmsg\u001b[0m \u001b[1;33m=\u001b[0m \u001b[1;34m\"raw_input was called, but this frontend does not support input requests.\"\u001b[0m\u001b[1;33m\u001b[0m\u001b[1;33m\u001b[0m\u001b[0m\n\u001b[0;32m   1190\u001b[0m             \u001b[1;32mraise\u001b[0m \u001b[0mStdinNotImplementedError\u001b[0m\u001b[1;33m(\u001b[0m\u001b[0mmsg\u001b[0m\u001b[1;33m)\u001b[0m\u001b[1;33m\u001b[0m\u001b[1;33m\u001b[0m\u001b[0m\n\u001b[1;32m-> 1191\u001b[1;33m         return self._input_request(\n\u001b[0m\u001b[0;32m   1192\u001b[0m             \u001b[0mstr\u001b[0m\u001b[1;33m(\u001b[0m\u001b[0mprompt\u001b[0m\u001b[1;33m)\u001b[0m\u001b[1;33m,\u001b[0m\u001b[1;33m\u001b[0m\u001b[1;33m\u001b[0m\u001b[0m\n\u001b[0;32m   1193\u001b[0m             \u001b[0mself\u001b[0m\u001b[1;33m.\u001b[0m\u001b[0m_parent_ident\u001b[0m\u001b[1;33m[\u001b[0m\u001b[1;34m\"shell\"\u001b[0m\u001b[1;33m]\u001b[0m\u001b[1;33m,\u001b[0m\u001b[1;33m\u001b[0m\u001b[1;33m\u001b[0m\u001b[0m\n",
      "\u001b[1;32m~\\AppData\\Roaming\\Python\\Python39\\site-packages\\ipykernel\\kernelbase.py\u001b[0m in \u001b[0;36m_input_request\u001b[1;34m(self, prompt, ident, parent, password)\u001b[0m\n\u001b[0;32m   1232\u001b[0m                 \u001b[1;31m# re-raise KeyboardInterrupt, to truncate traceback\u001b[0m\u001b[1;33m\u001b[0m\u001b[1;33m\u001b[0m\u001b[0m\n\u001b[0;32m   1233\u001b[0m                 \u001b[0mmsg\u001b[0m \u001b[1;33m=\u001b[0m \u001b[1;34m\"Interrupted by user\"\u001b[0m\u001b[1;33m\u001b[0m\u001b[1;33m\u001b[0m\u001b[0m\n\u001b[1;32m-> 1234\u001b[1;33m                 \u001b[1;32mraise\u001b[0m \u001b[0mKeyboardInterrupt\u001b[0m\u001b[1;33m(\u001b[0m\u001b[0mmsg\u001b[0m\u001b[1;33m)\u001b[0m \u001b[1;32mfrom\u001b[0m \u001b[1;32mNone\u001b[0m\u001b[1;33m\u001b[0m\u001b[1;33m\u001b[0m\u001b[0m\n\u001b[0m\u001b[0;32m   1235\u001b[0m             \u001b[1;32mexcept\u001b[0m \u001b[0mException\u001b[0m\u001b[1;33m:\u001b[0m\u001b[1;33m\u001b[0m\u001b[1;33m\u001b[0m\u001b[0m\n\u001b[0;32m   1236\u001b[0m                 \u001b[0mself\u001b[0m\u001b[1;33m.\u001b[0m\u001b[0mlog\u001b[0m\u001b[1;33m.\u001b[0m\u001b[0mwarning\u001b[0m\u001b[1;33m(\u001b[0m\u001b[1;34m\"Invalid Message:\"\u001b[0m\u001b[1;33m,\u001b[0m \u001b[0mexc_info\u001b[0m\u001b[1;33m=\u001b[0m\u001b[1;32mTrue\u001b[0m\u001b[1;33m)\u001b[0m\u001b[1;33m\u001b[0m\u001b[1;33m\u001b[0m\u001b[0m\n",
      "\u001b[1;31mKeyboardInterrupt\u001b[0m: Interrupted by user"
     ]
    }
   ],
   "source": [
    "n, m = map(int, input().split())\n",
    "table = [list(map(int, input().split())) for i in range(n)]\n",
    "sup = 0\n",
    "for i in range(n):\n",
    "    for j in range(m):\n",
    "        if table[i][j] > sup:\n",
    "            sup = table[i][j]\n",
    "            sup_pos = (i, j)\n",
    "max_ij = 0\n",
    "other_sup = 0\n",
    "for i in range(n):\n",
    "    for j in range(m):\n",
    "        if i != sup_pos[0] and table[i][j] > other_sup: \n",
    "            other_sup = table[i][j]\n",
    "            other_sup_pos = (i, j)\n",
    "for i in range(n):\n",
    "    for j in range(m):\n",
    "        if i != sup_pos[0] and j != other_sup_pos[1] and table[i][j] > max_ij: max_ij = table[i][j]\n",
    "max_ji = 0\n",
    "other_sup = 0\n",
    "for i in range(n):\n",
    "    for j in range(m):\n",
    "        if j != sup_pos[1] and table[i][j] > other_sup: \n",
    "            other_sup = table[i][j]\n",
    "            other_sup_pos = (i, j)\n",
    "for i in range(n):\n",
    "    for j in range(m):\n",
    "        if i != other_sup_pos[0] and j != sup_pos[1] and table[i][j] > max_ji: max_ji = table[i][j]\n",
    "if max_ij > max_ji: print(other_sup_pos[0] + 1, sup_pos[1] + 1)\n",
    "else: print(sup_pos[0] + 1, other_sup_pos[1] + 1)"
   ]
  },
  {
   "cell_type": "markdown",
   "metadata": {},
   "source": [
    "9"
   ]
  },
  {
   "cell_type": "code",
   "execution_count": null,
   "metadata": {},
   "outputs": [],
   "source": [
    "n = int(input())\n",
    "boats = []\n",
    "for i in range(n):\n",
    "    boats.append(tuple(map(int, input().split())))\n",
    "boats.sort()\n",
    "best = 10**4\n",
    "for col in range(1, n+1):\n",
    "    cur = 0\n",
    "    for i in range(n):\n",
    "        cur += abs(boats[i][0] - (i + 1)) + abs(boats[i][1] - col)\n",
    "    best = min(best, cur)\n",
    "print(best)"
   ]
  },
  {
   "cell_type": "markdown",
   "metadata": {},
   "source": [
    "10"
   ]
  },
  {
   "cell_type": "code",
   "execution_count": null,
   "metadata": {},
   "outputs": [],
   "source": [
    "def printans(f):\n",
    "    print('YES')\n",
    "    for s in f:\n",
    "        print(''.join(s))\n",
    "\n",
    "def isrect(f, fi, fj, si, sj, l):\n",
    "    mini = minj = 201\n",
    "    maxi = maxj = -1\n",
    "    count = 0\n",
    "    for i in range(fi, si):\n",
    "        for j in range(fj, sj):\n",
    "            if f[i][j] != '.':\n",
    "                mini = min(mini, i)\n",
    "                minj = min(minj, j)\n",
    "                maxi = max(maxi, i)\n",
    "                maxj = max(maxj, j)\n",
    "                f[i][j] = l\n",
    "                count += 1\n",
    "    return count > 0 and (maxi - mini + 1) * (maxj - minj + 1) == count\n",
    "\n",
    "\n",
    "def solve(n, m, f):\n",
    "    for i in range(n):\n",
    "        if isrect(f, 0, 0, i, m, 'a') and isrect(f, i, 0, n, m, 'b'):\n",
    "            printans(f)\n",
    "            return\n",
    "    for j in range(m):\n",
    "        if isrect(f, 0, 0, n, j, 'a') and isrect(f, 0, j, n, m, 'b'):\n",
    "            printans(f)\n",
    "            return\n",
    "    print('NO')\n",
    "\n",
    "n, m = map(int, input().split())\n",
    "f = []\n",
    "for i in range(n):\n",
    "    f.append(list(input()))\n",
    "solve(n, m, f)"
   ]
  }
 ],
 "metadata": {
  "kernelspec": {
   "display_name": "Python 3",
   "language": "python",
   "name": "python3"
  },
  "language_info": {
   "codemirror_mode": {
    "name": "ipython",
    "version": 3
   },
   "file_extension": ".py",
   "mimetype": "text/x-python",
   "name": "python",
   "nbconvert_exporter": "python",
   "pygments_lexer": "ipython3",
   "version": "3.9.7"
  }
 },
 "nbformat": 4,
 "nbformat_minor": 2
}
