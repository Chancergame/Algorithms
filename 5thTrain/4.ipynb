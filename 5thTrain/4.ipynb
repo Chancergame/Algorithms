{
 "cells": [
  {
   "cell_type": "markdown",
   "metadata": {},
   "source": [
    "1"
   ]
  },
  {
   "cell_type": "code",
   "execution_count": null,
   "metadata": {},
   "outputs": [],
   "source": [
    "def binsearch(k, f, nums):\n",
    "    if f == 'l':\n",
    "        l = 0\n",
    "        r = len(nums) - 1\n",
    "        while l != r:\n",
    "            m = (l + r) // 2\n",
    "            if nums[m] < k:\n",
    "                l = m + 1\n",
    "            else:\n",
    "                r = m\n",
    "        return l \n",
    "    else:\n",
    "        l = 0\n",
    "        r = len(nums) - 1\n",
    "        while l != r:\n",
    "            m = (l + r + 1) // 2\n",
    "            if nums[m] > k:\n",
    "                r = m - 1 \n",
    "            else:\n",
    "                l = m \n",
    "        return l\n",
    "\n",
    "n = int(input())\n",
    "nums = list(map(int, input().split()))\n",
    "nums.sort()\n",
    "k = int(input())\n",
    "ans = []\n",
    "for i in range(k):\n",
    "    l, r = map(int, input().split())\n",
    "    if len(nums) == 1: ans.append(int(l <= nums[0] <= r))\n",
    "    elif r < nums[0] or l > nums[-1]: ans.append(0)\n",
    "    else:\n",
    "          l_bound, r_bound = binsearch(l, 'l', nums), binsearch(r, 'r', nums)\n",
    "          ans.append(max(0, r_bound - l_bound + 1))\n",
    "print(*ans)"
   ]
  },
  {
   "cell_type": "markdown",
   "metadata": {},
   "source": [
    "2"
   ]
  },
  {
   "cell_type": "code",
   "execution_count": 7,
   "metadata": {},
   "outputs": [
    {
     "name": "stdout",
     "output_type": "stream",
     "text": [
      "2\n"
     ]
    }
   ],
   "source": [
    "n = int(input())\n",
    "l = 0 \n",
    "r = n\n",
    "while l != r:\n",
    "    k = (l + r + 1) // 2\n",
    "    if (k * (k + 1) * (k + 2)) // 6 + (k + k ** 2 - 2) // 2 <= n:\n",
    "        l = k\n",
    "    else:\n",
    "        r = k - 1\n",
    "print(l)"
   ]
  },
  {
   "cell_type": "markdown",
   "metadata": {},
   "source": [
    "3"
   ]
  },
  {
   "cell_type": "code",
   "execution_count": null,
   "metadata": {},
   "outputs": [],
   "source": [
    "def binsearch(nums, s, k):\n",
    "    l = k\n",
    "    r = len(nums) - 1\n",
    "    while l != r:\n",
    "        m = (l + r + 1) // 2\n",
    "        if nums[m] - nums[m-k] > s:\n",
    "            r = m - 1 \n",
    "        else:\n",
    "            l = m \n",
    "    return l\n",
    "\n",
    "n, m = map(int, input().split())\n",
    "divis = list(map(int, input().split()))\n",
    "psum = [0]\n",
    "for i in range(n): psum.append(divis[i] + psum[i])\n",
    "for i in range(m):\n",
    "    k, s = map(int, input().split())\n",
    "    last_i = binsearch(psum, s, k)\n",
    "    if psum[last_i] - psum[last_i-k] == s: print(last_i - k + 1)\n",
    "    else: print(-1)"
   ]
  },
  {
   "cell_type": "markdown",
   "metadata": {},
   "source": [
    "4"
   ]
  },
  {
   "cell_type": "code",
   "execution_count": null,
   "metadata": {},
   "outputs": [],
   "source": [
    "def getlen(a, size):\n",
    "    lines = 0\n",
    "    nowsize = 0\n",
    "    for now in a:\n",
    "        if now > size: return 10**9\n",
    "        if now <= nowsize:\n",
    "            nowsize -= now + 1\n",
    "        else:\n",
    "            nowsize = size - now - 1\n",
    "            lines += 1\n",
    "    return lines\n",
    "\n",
    "w, n, m = map(int, input().split())\n",
    "a = list(map(int, input().split()))\n",
    "b = list(map(int, input().split()))\n",
    "l = 0\n",
    "r = w\n",
    "while l != r:\n",
    "    m = (l + r) // 2\n",
    "    if getlen(a, m) < getlen(b, w - m):\n",
    "        r = m\n",
    "    else:\n",
    "        l = m + 1\n",
    "ans = min(max(getlen(a, l), getlen(b, w - l)), max(getlen(a, l - 1), getlen(b, w - l + 1)))\n",
    "print(ans)"
   ]
  },
  {
   "cell_type": "markdown",
   "metadata": {},
   "source": [
    "5"
   ]
  },
  {
   "cell_type": "code",
   "execution_count": null,
   "metadata": {},
   "outputs": [],
   "source": [
    "def binsearch(n):\n",
    "    l = 0\n",
    "    r = n\n",
    "    while l != r:\n",
    "        m = (l + r + 1) // 2\n",
    "        if (m * (m + 1)) // 2 >= n:\n",
    "            r = m - 1 \n",
    "        else:\n",
    "            l = m \n",
    "    return l + 1, (l * (l + 1)) // 2\n",
    "\n",
    "n = int(input())\n",
    "diag, nums = binsearch(n)\n",
    "dn = n - nums - 1\n",
    "if diag % 2 == 0:\n",
    "    ans = [diag - dn, 1 + dn]\n",
    "else:\n",
    "    ans = [1 + dn, diag - dn]\n",
    "print('/'.join(map(str, ans)))"
   ]
  },
  {
   "cell_type": "markdown",
   "metadata": {},
   "source": [
    "6"
   ]
  },
  {
   "cell_type": "code",
   "execution_count": null,
   "metadata": {},
   "outputs": [],
   "source": [
    "def check(m):\n",
    "    r = 0\n",
    "    pmx = -10**9\n",
    "    pmn = 10**9\n",
    "    for i in range(n):\n",
    "        while r < n and x[r] < x[i] + m:\n",
    "            r += 1\n",
    "        mx = pmx\n",
    "        mn = pmn\n",
    "        if r != n:\n",
    "            mx = max(mx, sufmax[r])\n",
    "            mn = min(mn, sufmin[r])\n",
    "        if mx - mn < m: \n",
    "            return True\n",
    "        pmx = prefmax[i]\n",
    "        pmn = prefmin[i]\n",
    "    return False\n",
    "\n",
    "w, h, n = map(int, input().split())\n",
    "points = [tuple(map(int, input().split())) for i in range(n)]\n",
    "points.sort()\n",
    "x, y = [], []\n",
    "for now in points:\n",
    "    x.append(now[0])\n",
    "    y.append(now[1])\n",
    "prefmin = [y[0]] * n\n",
    "prefmax = [y[0]] * n\n",
    "sufmin = [y[-1]] * n\n",
    "sufmax = [y[-1]] * n\n",
    "for i in range(1, n):\n",
    "    prefmin[i] = min(prefmin[i-1, y[i]])\n",
    "    prefmax[i] = max(prefmax[i-1, y[i]])\n",
    "for i in range(n - 2, -1, -1):\n",
    "    sufmin[i] = min(sufmin[i+1, y[i]])\n",
    "    sufmax[i] = max(sufmax[i+1, y[i]])\n",
    "l = 0\n",
    "r = min(w, h)\n",
    "while l != r:\n",
    "    m = (l + r) // 2\n",
    "    if check(m):\n",
    "        r = m\n",
    "    else:\n",
    "        l = m + 1\n",
    "print(l)"
   ]
  },
  {
   "cell_type": "markdown",
   "metadata": {},
   "source": [
    "7"
   ]
  },
  {
   "cell_type": "code",
   "execution_count": null,
   "metadata": {},
   "outputs": [],
   "source": [
    " "
   ]
  }
 ],
 "metadata": {
  "kernelspec": {
   "display_name": "Python 3",
   "language": "python",
   "name": "python3"
  },
  "language_info": {
   "codemirror_mode": {
    "name": "ipython",
    "version": 3
   },
   "file_extension": ".py",
   "mimetype": "text/x-python",
   "name": "python",
   "nbconvert_exporter": "python",
   "pygments_lexer": "ipython3",
   "version": "3.9.7"
  }
 },
 "nbformat": 4,
 "nbformat_minor": 2
}
