{
 "cells": [
  {
   "cell_type": "markdown",
   "metadata": {},
   "source": [
    "1"
   ]
  },
  {
   "cell_type": "code",
   "execution_count": null,
   "metadata": {},
   "outputs": [],
   "source": [
    "n = int(input())\n",
    "music = {}\n",
    "for i in range(n):\n",
    "    k = int(input())\n",
    "    treks = input().split()\n",
    "    for trek in treks: \n",
    "        if trek in music: music[trek] += 1\n",
    "        else: music[trek] = 1\n",
    "count = 0\n",
    "playlist = []\n",
    "for trek in music:\n",
    "    if music[trek] >= n:\n",
    "        count += 1\n",
    "        playlist.append(trek)\n",
    "print(count)\n",
    "print(*playlist)"
   ]
  },
  {
   "cell_type": "markdown",
   "metadata": {},
   "source": [
    "2"
   ]
  },
  {
   "cell_type": "code",
   "execution_count": 1,
   "metadata": {},
   "outputs": [
    {
     "name": "stdout",
     "output_type": "stream",
     "text": [
      "NO\n"
     ]
    }
   ],
   "source": [
    "first = input()\n",
    "second = input()\n",
    "first_let = {}\n",
    "second_let = {}\n",
    "for i in first:\n",
    "    if i in first_let: first_let[i] += 1\n",
    "    else: first_let[i] = 1\n",
    "for i in second:\n",
    "    if i in second_let: second_let[i] += 1\n",
    "    else: second_let[i] = 1\n",
    "if first_let == second_let: print('YES')\n",
    "else: print('NO')"
   ]
  },
  {
   "cell_type": "markdown",
   "metadata": {},
   "source": [
    "3"
   ]
  },
  {
   "cell_type": "code",
   "execution_count": null,
   "metadata": {},
   "outputs": [],
   "source": [
    "n = int(input())\n",
    "nums = list(map(int, input().split()))\n",
    "ind_nums = {}\n",
    "for num in nums:\n",
    "    if num in ind_nums: ind_nums[num] += 1\n",
    "    else: ind_nums[num] = 1\n",
    "sort_nums = sorted(ind_nums)\n",
    "best = 10**9\n",
    "k = len(sort_nums)\n",
    "for i in range(k):\n",
    "    count = 0\n",
    "    di = [i-1, i, (i+1)%k]\n",
    "    if abs(sort_nums[di[1]] - sort_nums[di[0]]) > 1: count += ind_nums[sort_nums[di[0]]]\n",
    "    if abs(sort_nums[di[2]] - sort_nums[di[1]]) > 1: count += ind_nums[sort_nums[di[2]]]\n",
    "    for j in range(k):\n",
    "        if j not in di: count += ind_nums[sort_nums[j]]\n",
    "    if count < best: best = count\n",
    "print(best)"
   ]
  },
  {
   "cell_type": "markdown",
   "metadata": {},
   "source": [
    "4"
   ]
  },
  {
   "cell_type": "code",
   "execution_count": null,
   "metadata": {},
   "outputs": [],
   "source": [
    "n, k = map(int, input().split())\n",
    "nums = list(map(int, input().split()))\n",
    "index = {}\n",
    "flag = 'NO'\n",
    "for i in range(n):\n",
    "    if nums[i] in index and i - index[nums[i]] <= k: \n",
    "        flag =  'YES'\n",
    "        break\n",
    "    else: ind_nums[nums[i]] = i\n",
    "print(flag)"
   ]
  },
  {
   "cell_type": "markdown",
   "metadata": {},
   "source": [
    "5"
   ]
  },
  {
   "cell_type": "code",
   "execution_count": null,
   "metadata": {},
   "outputs": [],
   "source": [
    "nums = {}\n",
    "for i in range(3):\n",
    "    n = int(input())\n",
    "    l = set(map(int, input().split()))\n",
    "    for i in l:\n",
    "        if i in nums: nums[i] += 1\n",
    "        else: nums[i] = 1\n",
    "ans = []\n",
    "for num in nums:\n",
    "    if nums[num] >= 2: ans.append(num)\n",
    "print(*sorted(ans))"
   ]
  },
  {
   "cell_type": "markdown",
   "metadata": {},
   "source": [
    "6"
   ]
  },
  {
   "cell_type": "code",
   "execution_count": 3,
   "metadata": {},
   "outputs": [
    {
     "name": "stdout",
     "output_type": "stream",
     "text": [
      "\n"
     ]
    }
   ],
   "source": [
    "temp = list(input().split())\n",
    "dic = {}\n",
    "for abb in temp:\n",
    "    if abb[0] in dic: dic[abb[0]].append(abb)\n",
    "    else: dic[abb[0]] = [abb]\n",
    "words = list(input().split())\n",
    "for i in range(len(words)):\n",
    "    if words[i][0] in dic:\n",
    "        for abb in dic[words[i][0]]:\n",
    "            l = len(abb)\n",
    "            if abb == words[i][:l] and l < len(words[i]): words[i] = abb\n",
    "    else: continue\n",
    "print(*words)"
   ]
  },
  {
   "cell_type": "markdown",
   "metadata": {},
   "source": [
    "7"
   ]
  },
  {
   "cell_type": "code",
   "execution_count": null,
   "metadata": {},
   "outputs": [],
   "source": [
    "n = int(input())\n",
    "points = set([])\n",
    "for i in range(n):\n",
    "    points.add(tuple(map(int, input().split())))\n",
    "if len(points) == 1: \n",
    "    for point in points: print(3, '\\n', point[0] + 1, point[1], '\\n', point[0], point[1] + 1, '\\n', point[0] + 1, point[1] + 1, '\\n')\n",
    "else:\n",
    "    best = 4\n",
    "    ans = []\n",
    "    for a in points:\n",
    "        for b in points:\n",
    "            if a == b: continue\n",
    "            dx = a[0] - b[0]\n",
    "            dy = a[1] - b[1]   \n",
    "            if (a[0] + dy, a[1] - dx) in points and (a[0] + dy, a[1] - dx) != a and (a[0] + dy, a[1] - dx) != b:\n",
    "                if (b[0] + dy, b[1] - dx) in points and (b[0] + dy, b[1] - dx) != a and (b[0] + dy, b[1] - dx) != b:\n",
    "                    if best > 0:\n",
    "                        best = 0\n",
    "                        ans = []\n",
    "                else:\n",
    "                    if best > 1:\n",
    "                        best = 1\n",
    "                        ans = [(b[0] + dy, b[1] - dx)]\n",
    "            elif (b[0] + dy, b[1] - dx) in points and (b[0] + dy, b[1] - dx) != a and (b[0] + dy, b[1] - dx) != b:\n",
    "                if best > 1:\n",
    "                        best = 1\n",
    "                        ans = [(a[0] + dy, a[1] - dx)]\n",
    "            elif (a[0] - dy, a[1] + dx) in points and (a[0] - dy, a[1] + dx) != a and (a[0] - dy, a[1] + dx) != b:\n",
    "                if (b[0] - dy, b[1] + dx) in points and (b[0] - dy, b[1] + dx) != a and (b[0] - dy, b[1] + dx) != b:\n",
    "                    if best > 0:\n",
    "                        best = 0\n",
    "                        ans = []\n",
    "                else:\n",
    "                    if best > 1:\n",
    "                        best = 1\n",
    "                        ans = [(b[0] - dy, b[1] + dx)]\n",
    "            elif (b[0] - dy, b[1] + dx) in points and (b[0] - dy, b[1] + dx) != a and (b[0] - dy, b[1] + dx) != b:\n",
    "                if best > 1:\n",
    "                        best = 1\n",
    "                        ans = [(a[0] - dy, a[1] + dx)]\n",
    "            else:\n",
    "                if best > 2:\n",
    "                    best = 2\n",
    "                    ans = [(a[0] - dy, a[1] + dx), (b[0] - dy, b[1] + dx)]\n",
    "print(best)\n",
    "for t in ans: print(*t)"
   ]
  },
  {
   "cell_type": "markdown",
   "metadata": {},
   "source": [
    "8"
   ]
  },
  {
   "cell_type": "code",
   "execution_count": null,
   "metadata": {},
   "outputs": [],
   "source": [
    "n = int(input())\n",
    "a = set([tuple(map(int,input().split())) for i in range(n)])\n",
    "b = set([tuple(map(int,input().split())) for i in range(n)])\n",
    "transfer = {}\n",
    "for i in a:\n",
    "    for j in b:\n",
    "            delta1 = (j[0] - i[0], j[1] - i[1], j[2] - i[2], j[3] - i[3])\n",
    "            delta2 = (j[2] - i[0], j[3] - i[1], j[0] - i[2], j[1] - i[3])\n",
    "            if (delta1[0] == delta1[2] and delta1[1] == delta1[3]):\n",
    "                 if (delta1[0], delta1[1]) in transfer: transfer[(delta1[0], delta1[1])] += 1 \n",
    "                 else: transfer[(delta1[0], delta1[1])] = 1 \n",
    "            if (delta2[0] == delta2[2] and delta2[1] == delta2[3]):\n",
    "                 if (delta2[0], delta2[1]) in transfer: transfer[(delta2[0], delta2[1])] += 1 \n",
    "                 else: transfer[(delta2[0], delta2[1])] = 1\n",
    "best = 0\n",
    "for i in transfer:\n",
    "     if transfer[i] > best: best = transfer[i]\n",
    "print(n - best)"
   ]
  },
  {
   "cell_type": "markdown",
   "metadata": {},
   "source": [
    "9"
   ]
  }
 ],
 "metadata": {
  "kernelspec": {
   "display_name": "Python 3",
   "language": "python",
   "name": "python3"
  },
  "language_info": {
   "codemirror_mode": {
    "name": "ipython",
    "version": 3
   },
   "file_extension": ".py",
   "mimetype": "text/x-python",
   "name": "python",
   "nbconvert_exporter": "python",
   "pygments_lexer": "ipython3",
   "version": "3.9.7"
  }
 },
 "nbformat": 4,
 "nbformat_minor": 2
}
